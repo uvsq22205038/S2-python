{
 "cells": [
  {
   "cell_type": "code",
   "execution_count": null,
   "metadata": {},
   "outputs": [],
   "source": [
    "import tkinter as tk \n",
    "def mamethode():\n",
    "    pass\n",
    "\n",
    "root = tk.Tk()\n",
    "root.title(\"Ma fenetre principale\")\n",
    "montexte = tk.Label(root, text = \"Hello\")\n",
    "bouton = tk.Button(root, text = \"monbouton\", command = mamethode)\n",
    "\n",
    "bouton.grid()\n",
    "montexte.grid()\n",
    "root.mainloop()"
   ]
  },
  {
   "cell_type": "code",
   "execution_count": null,
   "metadata": {},
   "outputs": [],
   "source": [
    "500,300,500,100"
   ]
  },
  {
   "cell_type": "code",
   "execution_count": 53,
   "metadata": {},
   "outputs": [],
   "source": [
    "import tkinter as tk\n",
    "\n",
    "CANVAS_WIDTH, CANVAS_HEIGHT = 600, 400\n",
    "\n",
    "\n",
    "root = Tk()\n",
    "\n",
    "canvas = tk.Canvas(root, width = CANVAS_WIDTH, height = CANVAS_HEIGHT)\n",
    "\n",
    "    # Début de votre code\n",
    "x0 = 100\n",
    "x1 = CANVAS_WIDTH - 100\n",
    "y = CANVAS_HEIGHT / 2\n",
    "canvas.create_line((x0 + x1) / 2, y + 100, (x0 + x1) / 2 , y - 100)\n",
    "canvas.create_oval(x0 - 50, y + 50, x0 + 50, y - 50)\n",
    "canvas.create_oval(x1 - 50, y + 50, x1 + 50, y - 50)\n",
    "canvas.create_oval((x0 + x1) / 2 - 50, y + 50, (x0 + x1) / 2 + 50, y - 50)\n",
    " \n",
    "    # Fin de votre code\n",
    "\n",
    "canvas.grid()\n",
    "root.mainloop()\n"
   ]
  }
 ],
 "metadata": {
  "kernelspec": {
   "display_name": "Python 3",
   "language": "python",
   "name": "python3"
  },
  "language_info": {
   "codemirror_mode": {
    "name": "ipython",
    "version": 3
   },
   "file_extension": ".py",
   "mimetype": "text/x-python",
   "name": "python",
   "nbconvert_exporter": "python",
   "pygments_lexer": "ipython3",
   "version": "3.10.7"
  },
  "orig_nbformat": 4
 },
 "nbformat": 4,
 "nbformat_minor": 2
}
